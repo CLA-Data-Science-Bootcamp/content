{
 "cells": [
  {
   "cell_type": "markdown",
   "id": "9f58bd10",
   "metadata": {},
   "source": [
    "# Grid search using sklearn\n",
    "In this notebook we will be using The grid search algorithm on the iris dataset classification task using the SVM classifier.\n",
    "\n"
   ]
  },
  {
   "cell_type": "code",
   "execution_count": 17,
   "id": "1ada26e3",
   "metadata": {},
   "outputs": [],
   "source": [
    "from sklearn.datasets import load_breast_cancer\n",
    "from sklearn.svm import SVC\n",
    "from sklearn.model_selection import train_test_split\n",
    "from sklearn.model_selection import GridSearchCV\n",
    "from sklearn.metrics import classification_report\n",
    "from sklearn.naive_bayes import GaussianNB"
   ]
  },
  {
   "cell_type": "code",
   "execution_count": 18,
   "id": "bfbe167f",
   "metadata": {},
   "outputs": [],
   "source": [
    "# load the data and split it into train , test \n",
    "data = load_breast_cancer()\n",
    "X = data.data \n",
    "Y = data.target\n",
    "\n",
    "X_train, X_test, y_train, y_test = train_test_split( X, Y, test_size=0.2, random_state=42)\n"
   ]
  },
  {
   "cell_type": "markdown",
   "id": "0d6fef2e",
   "metadata": {},
   "source": [
    "The possible hyper parameters to tune around are :\n",
    "- The Kernal : Kernel Function generally transforms the training set of data so that a non-linear decision surface is able to transformed to a linear equation in a higher number of dimension spaces.\n",
    "- gamma :defines how far the influence of a single training example reaches, with low values meaning 'far' and high values meaning 'close'.\n",
    "\n",
    "- C : Regularization parameter. The strength of the regularization is inversely proportional to C. Must be strictly positive. The penalty is a squared l2 penalty.\n"
   ]
  },
  {
   "cell_type": "code",
   "execution_count": 19,
   "id": "4fe22dc9",
   "metadata": {},
   "outputs": [],
   "source": [
    "# Set the parameters by cross-validation\n",
    "tuned_parameters = [{'kernel': ['rbf','linear'], 'gamma': [1e-3, 1e-4],\n",
    "                     'C': [1, 10, 100, 1000]}]"
   ]
  },
  {
   "cell_type": "markdown",
   "id": "17683078",
   "metadata": {},
   "source": [
    "The evaluation metric that we are relying on for the Grid search is the precision and the recall."
   ]
  },
  {
   "cell_type": "code",
   "execution_count": 20,
   "id": "21d9a647",
   "metadata": {},
   "outputs": [],
   "source": [
    "scores = ['precision', 'recall']"
   ]
  },
  {
   "cell_type": "code",
   "execution_count": 21,
   "id": "a318c3ca",
   "metadata": {},
   "outputs": [],
   "source": [
    "def grid_search(X_train,y_train,X_test,y_test,tunes_params, metric=\"precision\"):\n",
    "    print(\"# Tuning hyper-parameters for %s\" % metric)\n",
    "    clf = GridSearchCV(SVC(), tuned_parameters, scoring='%s_macro' % metric)\n",
    "    clf.fit(X_train, y_train)\n",
    "    print(\"Best params found \")\n",
    "    print(clf.best_params_)\n",
    "    print(\"Grid scores on development set:\")\n",
    "    print(clf.best_estimator_)\n",
    "    print()\n",
    "    means = clf.cv_results_['mean_test_score']\n",
    "    stds = clf.cv_results_['std_test_score']\n",
    "    for mean, std, params in zip(means, stds, clf.cv_results_['params']):\n",
    "        print(\"%0.3f (+/-%0.03f) for %r\"\n",
    "              % (mean, std * 2, params))\n",
    "        \n",
    "    print(\"classificationn report \")\n",
    "    y_true, y_pred = y_test, clf.predict(X_test)\n",
    "    print(classification_report(y_true, y_pred))\n",
    "    "
   ]
  },
  {
   "cell_type": "code",
   "execution_count": 22,
   "id": "9caed46f",
   "metadata": {},
   "outputs": [
    {
     "name": "stdout",
     "output_type": "stream",
     "text": [
      "# Tuning hyper-parameters for precision\n",
      "Best params found \n",
      "{'C': 100, 'gamma': 0.001, 'kernel': 'linear'}\n",
      "Grid scores on development set:\n",
      "SVC(C=100, gamma=0.001, kernel='linear')\n",
      "\n",
      "0.902 (+/-0.045) for {'C': 1, 'gamma': 0.001, 'kernel': 'rbf'}\n",
      "0.957 (+/-0.052) for {'C': 1, 'gamma': 0.001, 'kernel': 'linear'}\n",
      "0.933 (+/-0.046) for {'C': 1, 'gamma': 0.0001, 'kernel': 'rbf'}\n",
      "0.957 (+/-0.052) for {'C': 1, 'gamma': 0.0001, 'kernel': 'linear'}\n",
      "0.897 (+/-0.037) for {'C': 10, 'gamma': 0.001, 'kernel': 'rbf'}\n",
      "0.955 (+/-0.038) for {'C': 10, 'gamma': 0.001, 'kernel': 'linear'}\n",
      "0.954 (+/-0.041) for {'C': 10, 'gamma': 0.0001, 'kernel': 'rbf'}\n",
      "0.955 (+/-0.038) for {'C': 10, 'gamma': 0.0001, 'kernel': 'linear'}\n",
      "0.897 (+/-0.037) for {'C': 100, 'gamma': 0.001, 'kernel': 'rbf'}\n",
      "0.972 (+/-0.053) for {'C': 100, 'gamma': 0.001, 'kernel': 'linear'}\n",
      "0.942 (+/-0.031) for {'C': 100, 'gamma': 0.0001, 'kernel': 'rbf'}\n",
      "0.972 (+/-0.053) for {'C': 100, 'gamma': 0.0001, 'kernel': 'linear'}\n",
      "0.897 (+/-0.037) for {'C': 1000, 'gamma': 0.001, 'kernel': 'rbf'}\n",
      "0.968 (+/-0.034) for {'C': 1000, 'gamma': 0.001, 'kernel': 'linear'}\n",
      "0.921 (+/-0.055) for {'C': 1000, 'gamma': 0.0001, 'kernel': 'rbf'}\n",
      "0.968 (+/-0.034) for {'C': 1000, 'gamma': 0.0001, 'kernel': 'linear'}\n",
      "classificationn report \n",
      "              precision    recall  f1-score   support\n",
      "\n",
      "           0       0.97      0.91      0.94        43\n",
      "           1       0.95      0.99      0.97        71\n",
      "\n",
      "    accuracy                           0.96       114\n",
      "   macro avg       0.96      0.95      0.95       114\n",
      "weighted avg       0.96      0.96      0.96       114\n",
      "\n"
     ]
    }
   ],
   "source": [
    "# Grid search using only the precision \n",
    "import warnings\n",
    "warnings.filterwarnings(\"ignore\")\n",
    "\n",
    "grid_search(X_train,y_train,X_test,y_test,tuned_parameters,scores[0])"
   ]
  },
  {
   "cell_type": "code",
   "execution_count": 23,
   "id": "c32f108f",
   "metadata": {},
   "outputs": [
    {
     "name": "stdout",
     "output_type": "stream",
     "text": [
      "# Tuning hyper-parameters for recall\n",
      "Best params found \n",
      "{'C': 100, 'gamma': 0.001, 'kernel': 'linear'}\n",
      "Grid scores on development set:\n",
      "SVC(C=100, gamma=0.001, kernel='linear')\n",
      "\n",
      "0.910 (+/-0.060) for {'C': 1, 'gamma': 0.001, 'kernel': 'rbf'}\n",
      "0.949 (+/-0.055) for {'C': 1, 'gamma': 0.001, 'kernel': 'linear'}\n",
      "0.922 (+/-0.070) for {'C': 1, 'gamma': 0.0001, 'kernel': 'rbf'}\n",
      "0.949 (+/-0.055) for {'C': 1, 'gamma': 0.0001, 'kernel': 'linear'}\n",
      "0.904 (+/-0.052) for {'C': 10, 'gamma': 0.001, 'kernel': 'rbf'}\n",
      "0.948 (+/-0.051) for {'C': 10, 'gamma': 0.001, 'kernel': 'linear'}\n",
      "0.938 (+/-0.071) for {'C': 10, 'gamma': 0.0001, 'kernel': 'rbf'}\n",
      "0.948 (+/-0.051) for {'C': 10, 'gamma': 0.0001, 'kernel': 'linear'}\n",
      "0.904 (+/-0.052) for {'C': 100, 'gamma': 0.001, 'kernel': 'rbf'}\n",
      "0.968 (+/-0.062) for {'C': 100, 'gamma': 0.001, 'kernel': 'linear'}\n",
      "0.931 (+/-0.041) for {'C': 100, 'gamma': 0.0001, 'kernel': 'rbf'}\n",
      "0.968 (+/-0.062) for {'C': 100, 'gamma': 0.0001, 'kernel': 'linear'}\n",
      "0.904 (+/-0.052) for {'C': 1000, 'gamma': 0.001, 'kernel': 'rbf'}\n",
      "0.967 (+/-0.031) for {'C': 1000, 'gamma': 0.001, 'kernel': 'linear'}\n",
      "0.909 (+/-0.067) for {'C': 1000, 'gamma': 0.0001, 'kernel': 'rbf'}\n",
      "0.967 (+/-0.031) for {'C': 1000, 'gamma': 0.0001, 'kernel': 'linear'}\n",
      "classificationn report \n",
      "              precision    recall  f1-score   support\n",
      "\n",
      "           0       0.97      0.91      0.94        43\n",
      "           1       0.95      0.99      0.97        71\n",
      "\n",
      "    accuracy                           0.96       114\n",
      "   macro avg       0.96      0.95      0.95       114\n",
      "weighted avg       0.96      0.96      0.96       114\n",
      "\n"
     ]
    }
   ],
   "source": [
    "#Grid search using the recall \n",
    "grid_search(X_train,y_train,X_test,y_test,tuned_parameters,scores[1])"
   ]
  }
 ],
 "metadata": {
  "kernelspec": {
   "display_name": "Python 3",
   "language": "python",
   "name": "python3"
  },
  "language_info": {
   "codemirror_mode": {
    "name": "ipython",
    "version": 3
   },
   "file_extension": ".py",
   "mimetype": "text/x-python",
   "name": "python",
   "nbconvert_exporter": "python",
   "pygments_lexer": "ipython3",
   "version": "3.7.6"
  }
 },
 "nbformat": 4,
 "nbformat_minor": 5
}
