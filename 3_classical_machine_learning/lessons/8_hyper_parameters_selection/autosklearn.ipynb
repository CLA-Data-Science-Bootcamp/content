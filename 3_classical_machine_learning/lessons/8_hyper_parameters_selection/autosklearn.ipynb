{
 "cells": [
  {
   "cell_type": "code",
   "execution_count": 1,
   "id": "4da6e11d",
   "metadata": {},
   "outputs": [],
   "source": [
    "from sklearn.datasets import load_breast_cancer\n",
    "from sklearn.model_selection import train_test_split\n",
    "from sklearn.metrics import accuracy_score \n",
    "import autosklearn.classification as automl"
   ]
  },
  {
   "cell_type": "code",
   "execution_count": 2,
   "id": "98fcf831",
   "metadata": {},
   "outputs": [],
   "source": [
    "import warnings\n",
    "warnings.filterwarnings(\"ignore\")"
   ]
  },
  {
   "cell_type": "code",
   "execution_count": 5,
   "id": "9ec50be3",
   "metadata": {},
   "outputs": [],
   "source": [
    "# load the data and split it into train , test \n",
    "X, Y = load_breast_cancer(return_X_y=True)\n",
    "\n",
    "X_train, X_test, y_train, y_test = train_test_split( X, Y, test_size=0.2, random_state=42)\n"
   ]
  },
  {
   "cell_type": "code",
   "execution_count": 7,
   "id": "8d871fd4",
   "metadata": {},
   "outputs": [],
   "source": [
    "cls = automl.AutoSklearnClassifier(time_left_for_this_task=1*60, per_run_time_limit=30, n_jobs=8)"
   ]
  },
  {
   "cell_type": "code",
   "execution_count": 8,
   "id": "346df0b5",
   "metadata": {},
   "outputs": [
    {
     "data": {
      "text/plain": [
       "AutoSklearnClassifier(n_jobs=8, per_run_time_limit=30,\n",
       "                      time_left_for_this_task=60)"
      ]
     },
     "execution_count": 8,
     "metadata": {},
     "output_type": "execute_result"
    }
   ],
   "source": [
    "cls.fit(X_train, y_train)"
   ]
  },
  {
   "cell_type": "code",
   "execution_count": 9,
   "id": "2b54f772",
   "metadata": {},
   "outputs": [
    {
     "name": "stdout",
     "output_type": "stream",
     "text": [
      "auto-sklearn results:\n",
      "  Dataset name: 8d11979c-04c1-11ec-a2f9-b9643ad67fe5\n",
      "  Metric: accuracy\n",
      "  Best validation score: 0.980132\n",
      "  Number of target algorithm runs: 43\n",
      "  Number of successful target algorithm runs: 41\n",
      "  Number of crashed target algorithm runs: 2\n",
      "  Number of target algorithms that exceeded the time limit: 0\n",
      "  Number of target algorithms that exceeded the memory limit: 0\n",
      "\n"
     ]
    }
   ],
   "source": [
    "print(cls.sprint_statistics())"
   ]
  },
  {
   "cell_type": "code",
   "execution_count": 10,
   "id": "912591bf",
   "metadata": {},
   "outputs": [],
   "source": [
    "predictions = cls.predict(X_test)"
   ]
  },
  {
   "cell_type": "code",
   "execution_count": 11,
   "id": "59049398",
   "metadata": {},
   "outputs": [
    {
     "data": {
      "text/plain": [
       "0.9736842105263158"
      ]
     },
     "execution_count": 11,
     "metadata": {},
     "output_type": "execute_result"
    }
   ],
   "source": [
    "accuracy_score(y_test,predictions)\n",
    "\n"
   ]
  }
 ],
 "metadata": {
  "kernelspec": {
   "display_name": "Python 3",
   "language": "python",
   "name": "python3"
  },
  "language_info": {
   "codemirror_mode": {
    "name": "ipython",
    "version": 3
   },
   "file_extension": ".py",
   "mimetype": "text/x-python",
   "name": "python",
   "nbconvert_exporter": "python",
   "pygments_lexer": "ipython3",
   "version": "3.7.6"
  }
 },
 "nbformat": 4,
 "nbformat_minor": 5
}
