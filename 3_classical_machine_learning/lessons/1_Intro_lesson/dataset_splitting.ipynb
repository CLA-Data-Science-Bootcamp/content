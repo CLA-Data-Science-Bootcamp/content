{
 "cells": [
  {
   "cell_type": "markdown",
   "id": "831564df",
   "metadata": {},
   "source": [
    "# Dataset splitting:"
   ]
  },
  {
   "cell_type": "code",
   "execution_count": 1,
   "id": "4803df17",
   "metadata": {},
   "outputs": [],
   "source": [
    "from sklearn.model_selection import train_test_split\n",
    "from sklearn.datasets import load_iris"
   ]
  },
  {
   "cell_type": "code",
   "execution_count": 2,
   "id": "7f6cc6fc",
   "metadata": {},
   "outputs": [],
   "source": [
    "iris = load_iris()\n",
    "X = iris.data\n",
    "y = iris.target"
   ]
  },
  {
   "cell_type": "code",
   "execution_count": 4,
   "id": "c81bc762",
   "metadata": {},
   "outputs": [],
   "source": [
    "x_train,x_t,y_train,y_t=train_test_split(X,y,test_size=0.2,random_state=123)"
   ]
  },
  {
   "cell_type": "code",
   "execution_count": 6,
   "id": "22843eb5",
   "metadata": {},
   "outputs": [],
   "source": [
    "# Get the test set and the validation set apart\n",
    "\n",
    "x_test,x_valid,y_test,y_valid=train_test_split(x_t,y_t,test_size=0.5,random_state=123)"
   ]
  },
  {
   "cell_type": "code",
   "execution_count": 8,
   "id": "9bc140ba",
   "metadata": {},
   "outputs": [
    {
     "name": "stdout",
     "output_type": "stream",
     "text": [
      "number of training examples is 120 \n",
      "number of validation examples is 15 \n",
      "number of testing examples is 15 \n"
     ]
    }
   ],
   "source": [
    "print(\"number of training examples is {} \".format(len(x_train)))\n",
    "print(\"number of validation examples is {} \".format(len(x_test)))\n",
    "print(\"number of testing examples is {} \".format(len(x_valid)))\n"
   ]
  },
  {
   "cell_type": "code",
   "execution_count": null,
   "id": "d2ba24a7",
   "metadata": {},
   "outputs": [],
   "source": []
  }
 ],
 "metadata": {
  "kernelspec": {
   "display_name": "Python 3",
   "language": "python",
   "name": "python3"
  },
  "language_info": {
   "codemirror_mode": {
    "name": "ipython",
    "version": 3
   },
   "file_extension": ".py",
   "mimetype": "text/x-python",
   "name": "python",
   "nbconvert_exporter": "python",
   "pygments_lexer": "ipython3",
   "version": "3.7.6"
  }
 },
 "nbformat": 4,
 "nbformat_minor": 5
}
