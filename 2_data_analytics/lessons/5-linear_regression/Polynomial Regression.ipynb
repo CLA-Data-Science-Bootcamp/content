{
 "cells": [
  {
   "cell_type": "markdown",
   "metadata": {},
   "source": [
    "# Definition"
   ]
  },
  {
   "cell_type": "markdown",
   "metadata": {},
   "source": [
    "Polynomial regression is a special case of Linear regression. Our goal is to establish a polynomial relation between our independant variable(s) $X = (x_1, x_2, ..., x_n)$ and our dependant variable $Y$."
   ]
  },
  {
   "cell_type": "markdown",
   "metadata": {},
   "source": [
    "The polynomial relation that exists between these variables will be of the following form  :\n",
    "\\begin{equation}\n",
    "Y = b + a_1 X^1 + a_2 X^2 + ... + a_n X^n\n",
    "\\end{equation}\n",
    "To fit a polynomial regression model we have to find the values of the coeficients $(b, a1, ... , an)$"
   ]
  },
  {
   "cell_type": "markdown",
   "metadata": {},
   "source": [
    "# Expirements\n",
    "The dataset that will be used is composed of measures of temperature and pressure where pressure is the dependant variable."
   ]
  },
  {
   "cell_type": "code",
   "execution_count": 1,
   "metadata": {},
   "outputs": [],
   "source": [
    "# Importing the packages needed\n",
    "import pandas as pd\n",
    "import matplotlib.pyplot as plt"
   ]
  },
  {
   "cell_type": "code",
   "execution_count": 2,
   "metadata": {},
   "outputs": [
    {
     "data": {
      "text/html": [
       "<div>\n",
       "<style scoped>\n",
       "    .dataframe tbody tr th:only-of-type {\n",
       "        vertical-align: middle;\n",
       "    }\n",
       "\n",
       "    .dataframe tbody tr th {\n",
       "        vertical-align: top;\n",
       "    }\n",
       "\n",
       "    .dataframe thead th {\n",
       "        text-align: right;\n",
       "    }\n",
       "</style>\n",
       "<table border=\"1\" class=\"dataframe\">\n",
       "  <thead>\n",
       "    <tr style=\"text-align: right;\">\n",
       "      <th></th>\n",
       "      <th>ID</th>\n",
       "      <th>Temperature</th>\n",
       "      <th>Pressure</th>\n",
       "    </tr>\n",
       "  </thead>\n",
       "  <tbody>\n",
       "    <tr>\n",
       "      <td>0</td>\n",
       "      <td>1</td>\n",
       "      <td>0</td>\n",
       "      <td>0.0002</td>\n",
       "    </tr>\n",
       "    <tr>\n",
       "      <td>1</td>\n",
       "      <td>2</td>\n",
       "      <td>20</td>\n",
       "      <td>0.0012</td>\n",
       "    </tr>\n",
       "    <tr>\n",
       "      <td>2</td>\n",
       "      <td>3</td>\n",
       "      <td>40</td>\n",
       "      <td>0.0060</td>\n",
       "    </tr>\n",
       "    <tr>\n",
       "      <td>3</td>\n",
       "      <td>4</td>\n",
       "      <td>60</td>\n",
       "      <td>0.0300</td>\n",
       "    </tr>\n",
       "    <tr>\n",
       "      <td>4</td>\n",
       "      <td>5</td>\n",
       "      <td>80</td>\n",
       "      <td>0.0900</td>\n",
       "    </tr>\n",
       "    <tr>\n",
       "      <td>5</td>\n",
       "      <td>6</td>\n",
       "      <td>100</td>\n",
       "      <td>0.2700</td>\n",
       "    </tr>\n",
       "  </tbody>\n",
       "</table>\n",
       "</div>"
      ],
      "text/plain": [
       "   ID  Temperature  Pressure\n",
       "0   1            0    0.0002\n",
       "1   2           20    0.0012\n",
       "2   3           40    0.0060\n",
       "3   4           60    0.0300\n",
       "4   5           80    0.0900\n",
       "5   6          100    0.2700"
      ]
     },
     "execution_count": 2,
     "metadata": {},
     "output_type": "execute_result"
    }
   ],
   "source": [
    "data = pd.read_csv('data.csv')\n",
    "data"
   ]
  },
  {
   "cell_type": "code",
   "execution_count": 3,
   "metadata": {},
   "outputs": [],
   "source": [
    "#Seperating the dependant and independant variables\n",
    "x = data.iloc[:, 1:2].values\n",
    "y = data.iloc[:, 2].values"
   ]
  },
  {
   "cell_type": "markdown",
   "metadata": {},
   "source": [
    "## Linear Regression\n",
    "Let's try to fit our data using linear regression"
   ]
  },
  {
   "cell_type": "code",
   "execution_count": 4,
   "metadata": {},
   "outputs": [
    {
     "data": {
      "image/png": "[encoded data removed]",
      "text/plain": [
       "<Figure size 432x288 with 1 Axes>"
      ]
     },
     "metadata": {
      "needs_background": "light"
     },
     "output_type": "display_data"
    }
   ],
   "source": [
    "from sklearn.linear_model import LinearRegression\n",
    "\n",
    "# Normal Linear Regression\n",
    "lin_reg = LinearRegression()\n",
    "lin_reg.fit(x, y)\n",
    "\n",
    "# Plotting the results of the Linear Regression\n",
    "plt.scatter(x, y, color = 'blue')\n",
    "plt.plot(x, lin_reg.predict(x), color = 'red')\n",
    "plt.title('Linear Regression')\n",
    "plt.xlabel('Temperature')\n",
    "plt.ylabel('Pressure')\n",
    "plt.show()"
   ]
  },
  {
   "cell_type": "markdown",
   "metadata": {},
   "source": [
    "## Observation\n",
    "We can clearly see that the linear regression model can't clearly fit the data that we have"
   ]
  },
  {
   "cell_type": "markdown",
   "metadata": {},
   "source": [
    "## Polynomial Regression\n",
    "Let's try now to fit our data using Polynomial Regression.\n",
    "To do so, we build a pipeline that transforms our features to higher order then applies Linear Regression to these transformed features (in our case we have only one feature).\n",
    "\n",
    "Our piepline will be composed of :\n",
    "<ol>\n",
    "  <li><b>Feature transformation step : </b>In this step we use the PolyNomialFeatures class, this class takes the degree of the polynomial transformation then uses the fit_transform() method to generate the higher order features.</li>\n",
    "    <li><b>Linear Regression step : </b> in this step we run normal linear regression but instead of using the intial features we use the higher order features returned from the first step.</li>\n",
    "</ol>"
   ]
  },
  {
   "cell_type": "code",
   "execution_count": 5,
   "metadata": {},
   "outputs": [
    {
     "data": {
      "image/png": "[encoded data removed]",
      "text/plain": [
       "<Figure size 432x288 with 1 Axes>"
      ]
     },
     "metadata": {
      "needs_background": "light"
     },
     "output_type": "display_data"
    }
   ],
   "source": [
    "from sklearn.preprocessing import PolynomialFeatures\n",
    "\n",
    "# Step 1 : transforming the features to a higher order : 4th degree here\n",
    "poly = PolynomialFeatures(degree = 4)\n",
    "x_poly = poly.fit_transform(x)  \n",
    "\n",
    "# Step 2 : applying normal Linear Regression to the higher order features\n",
    "poly.fit(x_poly, y)\n",
    "poly_reg = LinearRegression()\n",
    "poly_reg.fit(x_poly, y)\n",
    "\n",
    "# Plotting the results of the Polynomial Regression\n",
    "plt.scatter(x, y, color = 'blue')  \n",
    "plt.plot(x, poly_reg.predict(x_poly), color = 'red')\n",
    "plt.title('Polynomial Regression')\n",
    "plt.xlabel('Temperature')\n",
    "plt.ylabel('Pressure')  \n",
    "plt.show()"
   ]
  }
 ],
 "metadata": {
  "kernelspec": {
   "display_name": "Python 3",
   "language": "python",
   "name": "python3"
  },
  "language_info": {
   "codemirror_mode": {
    "name": "ipython",
    "version": 3
   },
   "file_extension": ".py",
   "mimetype": "text/x-python",
   "name": "python",
   "nbconvert_exporter": "python",
   "pygments_lexer": "ipython3",
   "version": "3.7.4"
  }
 },
 "nbformat": 4,
 "nbformat_minor": 2
}
